{
 "cells": [
  {
   "cell_type": "code",
   "execution_count": null,
   "id": "0246be3c-8c3e-4817-a8e8-e61aa13b5e51",
   "metadata": {},
   "outputs": [],
   "source": [
    "    #Answer : 1\n",
    "    \n",
    "Yes, there is a difference in the data type of the list_ variable and the array_list variable.\n",
    "\n",
    "The list_ variable is a regular Python list, and its elements are of type string (str). \n",
    "On the other hand, the array_list variable is a NumPy array, \n",
    "and NumPy automatically assigns a data type to the elements based on their type when you create the array.    \n",
    "    "
   ]
  },
  {
   "cell_type": "code",
   "execution_count": 1,
   "id": "f42f3a1c-b77b-4ad4-b18e-6ffc0e7d15b4",
   "metadata": {},
   "outputs": [
    {
     "name": "stdout",
     "output_type": "stream",
     "text": [
      "Data type of 'list_': <class 'list'>\n",
      "Data type of 'array_list': <class 'numpy.ndarray'>\n"
     ]
    }
   ],
   "source": [
    "import numpy as np\n",
    "\n",
    "list_ = ['1', '2', '3', '4', '5']\n",
    "array_list = np.array(object=list_)\n",
    "\n",
    "print(\"Data type of 'list_':\", type(list_))\n",
    "print(\"Data type of 'array_list':\", type(array_list))\n"
   ]
  },
  {
   "cell_type": "code",
   "execution_count": null,
   "id": "48f8434a-3bcb-4098-a35d-4e9e6810d96a",
   "metadata": {},
   "outputs": [],
   "source": [
    "    #Answer : 2\n",
    "    \n",
    "import numpy as np\n",
    "\n",
    "list_ = ['1', '2', '3', '4', '5']\n",
    "array_list = np.array(object=list_)\n",
    "\n",
    "# Print data types for elements in the list\n",
    "for item in list_:\n",
    "    print(f\"Element '{item}' in list_ has data type: {type(item)}\")\n",
    "\n",
    "# Print data types for elements in the array\n",
    "for item in array_list:\n",
    "    print(f\"Element '{item}' in array_list has data type: {item.dtype}\")\n",
    "    "
   ]
  },
  {
   "cell_type": "code",
   "execution_count": null,
   "id": "172cc231-265b-4f1f-b783-2782905e0958",
   "metadata": {},
   "outputs": [],
   "source": [
    "    #Answer: 3\n",
    "    \n",
    "Yes, there will be a difference in the data types of the elements present in list_ and\n",
    "array_list after you create array_list with the dtype=int. \n",
    "All elements in array_list will have the data type int, whereas the elements in list_ will still have the data type str .   "
   ]
  },
  {
   "cell_type": "code",
   "execution_count": null,
   "id": "50f190b8-4cad-476e-829d-5cf051f9f082",
   "metadata": {},
   "outputs": [],
   "source": [
    "import numpy as np\n",
    "\n",
    "list_ = ['1', '2', '3', '4', '5']\n",
    "array_list = np.array(object=list_, dtype=int)\n",
    "\n",
    "# Print data types for elements in the list\n",
    "for item in list_:\n",
    "    print(f\"Element '{item}' in list_ has data type: {type(item)}\")\n",
    "\n",
    "# Print data types for elements in the array\n",
    "for item in array_list:\n",
    "    print(f\"Element {item} in array_list has data type: {type(item)}\")\n"
   ]
  },
  {
   "cell_type": "code",
   "execution_count": null,
   "id": "06361fc2-821f-4765-8788-ae1befdba99a",
   "metadata": {},
   "outputs": [],
   "source": [
    "    #Answer : 4\n",
    "    \n",
    "import numpy as np\n",
    "\n",
    "num_list = [[1, 2, 3], [4, 5, 6]]\n",
    "num_array = np.array(object=num_list)\n",
    "\n",
    "# (i) Find the shape of num_array\n",
    "shape = num_array.shape\n",
    "print(\"Shape of num_array:\", shape)\n",
    "\n",
    "# (ii) Find the size (total number of elements) of num_array\n",
    "size = num_array.size\n",
    "print(\"Size of num_array:\", size)\n",
    "   "
   ]
  },
  {
   "cell_type": "code",
   "execution_count": null,
   "id": "f481542f-5d36-43e0-94bd-dec7e9d825c8",
   "metadata": {},
   "outputs": [],
   "source": [
    "In this code:\n",
    "\n",
    "(i) The .shape attribute is used to determine the shape of the array, which represents the dimensions of the array.\n",
    "It will print something like (2, 3) indicating a 2x3 array (2 rows and 3 columns).\n",
    "(ii) The .size attribute is used to determine the size of the array, \n",
    "which represents the total number of elements in the array. In this case, \n",
    "it will print 6 because there are 6 elements in the 2x3 arra"
   ]
  },
  {
   "cell_type": "code",
   "execution_count": 6,
   "id": "f87832a8-454c-4b16-ae7a-9968891cc99b",
   "metadata": {},
   "outputs": [],
   "source": [
    "    #Answer : 5\n",
    "\n",
    "data=np.random.randint(0,1,(3,3))    "
   ]
  },
  {
   "cell_type": "code",
   "execution_count": 7,
   "id": "28b7e83c-32c2-4999-a7de-ea18e549f6df",
   "metadata": {},
   "outputs": [
    {
     "data": {
      "text/plain": [
       "array([[0, 0, 0],\n",
       "       [0, 0, 0],\n",
       "       [0, 0, 0]])"
      ]
     },
     "execution_count": 7,
     "metadata": {},
     "output_type": "execute_result"
    }
   ],
   "source": [
    "data"
   ]
  },
  {
   "cell_type": "code",
   "execution_count": 9,
   "id": "1bf09825-f0cd-4a02-9cdd-77e2b1112394",
   "metadata": {},
   "outputs": [],
   "source": [
    "    #Answer : 6\n",
    "    \n",
    "data1=np.diag([1,1,1,1,1,]) "
   ]
  },
  {
   "cell_type": "code",
   "execution_count": 10,
   "id": "1f2d574f-2e2d-452f-909c-6c1678271fcb",
   "metadata": {},
   "outputs": [
    {
     "data": {
      "text/plain": [
       "array([[1, 0, 0, 0, 0],\n",
       "       [0, 1, 0, 0, 0],\n",
       "       [0, 0, 1, 0, 0],\n",
       "       [0, 0, 0, 1, 0],\n",
       "       [0, 0, 0, 0, 1]])"
      ]
     },
     "execution_count": 10,
     "metadata": {},
     "output_type": "execute_result"
    }
   ],
   "source": [
    "data1"
   ]
  },
  {
   "cell_type": "code",
   "execution_count": null,
   "id": "266d4747-6585-42ea-8d12-9dfacfb73e28",
   "metadata": {},
   "outputs": [],
   "source": []
  }
 ],
 "metadata": {
  "kernelspec": {
   "display_name": "Python 3 (ipykernel)",
   "language": "python",
   "name": "python3"
  },
  "language_info": {
   "codemirror_mode": {
    "name": "ipython",
    "version": 3
   },
   "file_extension": ".py",
   "mimetype": "text/x-python",
   "name": "python",
   "nbconvert_exporter": "python",
   "pygments_lexer": "ipython3",
   "version": "3.10.8"
  }
 },
 "nbformat": 4,
 "nbformat_minor": 5
}
